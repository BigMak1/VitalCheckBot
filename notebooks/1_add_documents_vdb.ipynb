{
 "cells": [
  {
   "cell_type": "code",
   "execution_count": 1,
   "metadata": {},
   "outputs": [],
   "source": [
    "import docx\n",
    "import re\n",
    "from langchain_core.documents import Document"
   ]
  },
  {
   "cell_type": "markdown",
   "metadata": {},
   "source": [
    "### Обработка файла 1\n",
    "---"
   ]
  },
  {
   "cell_type": "code",
   "execution_count": 9,
   "metadata": {},
   "outputs": [],
   "source": [
    "def extract_situations_from_docx(file_path):\n",
    "    document = docx.Document(file_path)\n",
    "    situations = {}\n",
    "\n",
    "    current_number = 0\n",
    "    cur_text = \"\"\n",
    "    situations[current_number] = {}\n",
    "\n",
    "    for para in document.paragraphs:\n",
    "        numbering = para._p.pPr.numPr if para._p.pPr is not None else None\n",
    "        para_text = para.text.strip()\n",
    "\n",
    "        if numbering is not None:\n",
    "            \n",
    "            situations[current_number][\"assessment\"] = cur_text\n",
    "            current_number += 1\n",
    "            situations[current_number] = {}\n",
    "            cur_text = \"\"\n",
    "\n",
    "            if para_text.startswith(\"Ситуация:\"):\n",
    "                cur_text += para_text.replace(\"Ситуация:\", \"\").strip()\n",
    "        else:\n",
    "            if para_text.startswith(\"Оценка критичности, рекомендации:\"):\n",
    "                situations[current_number][\"situation\"] = cur_text\n",
    "                cur_text = \"\"\n",
    "                cur_text += para_text.replace(\"Оценка критичности, рекомендации:\", \"\").strip()\n",
    "            else:\n",
    "                cur_text += para_text\n",
    "    situations[current_number][\"assessment\"] = cur_text\n",
    "    situations.pop(0, None)\n",
    "\n",
    "    return situations"
   ]
  },
  {
   "cell_type": "code",
   "execution_count": 10,
   "metadata": {},
   "outputs": [],
   "source": [
    "file_path = '../data/1_file.docx'\n",
    "analysis_situations = extract_situations_from_docx(file_path)"
   ]
  },
  {
   "cell_type": "code",
   "execution_count": 13,
   "metadata": {},
   "outputs": [],
   "source": [
    "# analysis_situations"
   ]
  },
  {
   "cell_type": "code",
   "execution_count": 14,
   "metadata": {},
   "outputs": [],
   "source": [
    "analysis_docs = []\n",
    "for key in analysis_situations:\n",
    "    analysis_docs.append(\n",
    "        Document(\n",
    "            page_content=analysis_situations[key][\"situation\"], \n",
    "            metadata={\n",
    "                \"situation\": analysis_situations[key][\"situation\"], \n",
    "                \"assessment\": analysis_situations[key][\"assessment\"]\n",
    "            },\n",
    "            id=2*key-1\n",
    "        )\n",
    "    )\n",
    "    analysis_docs.append(\n",
    "        Document(\n",
    "            page_content=analysis_situations[key][\"assessment\"], \n",
    "            metadata={\n",
    "                \"situation\": analysis_situations[key][\"situation\"], \n",
    "                \"assessment\": analysis_situations[key][\"assessment\"]\n",
    "            },\n",
    "            id=2*key\n",
    "        )\n",
    "    )"
   ]
  },
  {
   "cell_type": "code",
   "execution_count": 16,
   "metadata": {},
   "outputs": [],
   "source": [
    "# analysis_docs"
   ]
  },
  {
   "cell_type": "markdown",
   "metadata": {},
   "source": [
    "### Обработка файла 2\n",
    "---"
   ]
  },
  {
   "cell_type": "code",
   "execution_count": 21,
   "metadata": {},
   "outputs": [],
   "source": [
    "def extract_situations_from_docx_2(file_path):\n",
    "    document = docx.Document(file_path)\n",
    "    situations = {}\n",
    "\n",
    "    current_number = 0\n",
    "    cur_text = \"\"\n",
    "    situations[current_number] = {}\n",
    "\n",
    "    for para in document.paragraphs:\n",
    "        numbering = para._p.pPr.numPr if para._p.pPr is not None else None\n",
    "        para_text = para.text.strip()\n",
    "\n",
    "        if numbering is not None:\n",
    "            \n",
    "            situations[current_number][\"action\"] = cur_text\n",
    "            current_number += 1\n",
    "            situations[current_number] = {}\n",
    "            cur_text = \"\"\n",
    "\n",
    "            if para_text.startswith(\"Ситуация:\"):\n",
    "                cur_text += para_text.replace(\"Ситуация:\", \"\").strip()\n",
    "        else:\n",
    "            if para_text.startswith(\"Необходимые мероприятия юридического подразделения:\"):\n",
    "                situations[current_number][\"situation\"] = cur_text\n",
    "                cur_text = \"\"\n",
    "                cur_text += para_text.replace(\"Необходимые мероприятия юридического подразделения:\", \"\").strip()\n",
    "            else:\n",
    "                cur_text += para_text\n",
    "    situations[current_number][\"action\"] = cur_text\n",
    "    situations.pop(0, None)\n",
    "\n",
    "    return situations"
   ]
  },
  {
   "cell_type": "code",
   "execution_count": 22,
   "metadata": {},
   "outputs": [],
   "source": [
    "file_path = '../data/2_file.docx'\n",
    "procedures_situations = extract_situations_from_docx_2(file_path)"
   ]
  },
  {
   "cell_type": "code",
   "execution_count": 24,
   "metadata": {},
   "outputs": [],
   "source": [
    "procedures_docs = []\n",
    "for key in procedures_situations:\n",
    "    procedures_docs.append(\n",
    "        Document(\n",
    "            page_content=procedures_situations[key][\"situation\"], \n",
    "            metadata={\n",
    "                \"situation\": procedures_situations[key][\"situation\"], \n",
    "                \"action\": procedures_situations[key][\"action\"]\n",
    "            },\n",
    "            id=2*key-1\n",
    "        )\n",
    "    )\n",
    "    procedures_docs.append(\n",
    "        Document(\n",
    "            page_content=procedures_situations[key][\"action\"], \n",
    "            metadata={\n",
    "                \"situation\": procedures_situations[key][\"situation\"], \n",
    "                \"action\": procedures_situations[key][\"action\"]\n",
    "            },\n",
    "            id=2*key\n",
    "        )\n",
    "    )"
   ]
  },
  {
   "cell_type": "markdown",
   "metadata": {},
   "source": [
    "### Credentials"
   ]
  },
  {
   "cell_type": "code",
   "execution_count": 26,
   "metadata": {},
   "outputs": [],
   "source": [
    "import os\n",
    "import httpx\n",
    "from dotenv import load_dotenv\n",
    "\n",
    "load_dotenv()\n",
    "\n",
    "proxy_url = os.environ.get(\"OPENAI_PROXY_URL\")"
   ]
  },
  {
   "cell_type": "markdown",
   "metadata": {},
   "source": [
    "### Initialization"
   ]
  },
  {
   "cell_type": "code",
   "execution_count": 27,
   "metadata": {},
   "outputs": [],
   "source": [
    "from langchain_openai import OpenAIEmbeddings\n",
    "\n",
    "embedding_function = OpenAIEmbeddings(model=\"text-embedding-3-large\", http_client=httpx.Client(proxy=proxy_url))"
   ]
  },
  {
   "cell_type": "markdown",
   "metadata": {},
   "source": [
    "### Init chroma db\n",
    "---"
   ]
  },
  {
   "cell_type": "code",
   "execution_count": 28,
   "metadata": {},
   "outputs": [],
   "source": [
    "import chromadb\n",
    "from langchain_chroma import Chroma\n",
    "\n",
    "persistent_client  = chromadb.PersistentClient(path=\"chromadb_db/\")"
   ]
  },
  {
   "cell_type": "code",
   "execution_count": 29,
   "metadata": {},
   "outputs": [],
   "source": [
    "vector_store_analysis = Chroma(client=persistent_client, collection_name=\"judicial_acts_analysis\", embedding_function=embedding_function)\n",
    "vector_store_procedures = Chroma(client=persistent_client, collection_name=\"rejection_procedures\", embedding_function=embedding_function)"
   ]
  },
  {
   "cell_type": "code",
   "execution_count": 31,
   "metadata": {},
   "outputs": [],
   "source": [
    "# %%time\n",
    "\n",
    "# vector_store_analysis.add_documents(documents=analysis_docs)\n",
    "# vector_store_procedures.add_documents(documents=procedures_docs)"
   ]
  },
  {
   "cell_type": "code",
   "execution_count": 32,
   "metadata": {},
   "outputs": [
    {
     "data": {
      "text/plain": [
       "[Document(id='42', metadata={'assessment': 'Некритично, если расхождения сумм задолженности в диапазоне 250 рублей (включительно). В остальных случаях критично.', 'situation': 'Несовпадение сумм задолженности как в разбивке, так и в общем итоге в резолютивной части судебного акта с РЦИ (расчет, расчет цены иска).'}, page_content='Некритично, если расхождения сумм задолженности в диапазоне 250 рублей (включительно). В остальных случаях критично.'),\n",
       " Document(id='1', metadata={'assessment': 'Некритично. Необходимо произвести расчет госпошлины для каждого обязательства и указать сумму в карточке дела и в запросе в АС ВРМ «Правовое обеспечение».', 'situation': 'Судебный акт вынесен по нескольким договорам, сумма госпошлины (г/п, гп) указана общей суммой без разбивки.'}, page_content='Судебный акт вынесен по нескольким договорам, сумма госпошлины (г/п, гп) указана общей суммой без разбивки.'),\n",
       " Document(id='39', metadata={'assessment': 'Некритично, если в итоговой сумме задолженности размер присужденной государственной пошлины соответствует размеру уплаченной, либо расхождения в диапазоне до 250 рублей (включительно). ПРИ ЭТОМ Не считать критичной опиской расхождение сумм (разбивка/общий итог) в большую сторону вне зависимости от суммы расхождения.', 'situation': 'Не соответствует итоговая сумма задолженности с разбивкой - в итог включена сумма госпошлины, но не прописана в разбивке.'}, page_content='Не соответствует итоговая сумма задолженности с разбивкой - в итог включена сумма госпошлины, но не прописана в разбивке.')]"
      ]
     },
     "execution_count": 32,
     "metadata": {},
     "output_type": "execute_result"
    }
   ],
   "source": [
    "vector_store_analysis.similarity_search(\"Долг\", k=3)"
   ]
  },
  {
   "cell_type": "code",
   "execution_count": 33,
   "metadata": {},
   "outputs": [
    {
     "data": {
      "text/plain": [
       "[Document(id='3', metadata={'action': 'проверить, что судебный акт вынесен по категории дел «Двойное просуживание». Проверить наличие спец.метки в кейсе, при отсутствии нужно проставить. Выставить запрос в ПЦП ЦУЗ для урегулирования суммовой разницы с комментарием «#Двойное просуживание#суммовая разница/судом частично удовлетворены исковые требования, Требуется урегулировать: ОД -________ ₽, % - _________». В случае, если в исковом заявлении не заявлены неустойки, а в РЦИ неустойки присутствуют, в комментарий для ПЦП ЦУЗ необходимо включить информацию об урегулировании незаявленных неустоек.\\nПосле выставления задачи в ПЦП ЦУЗ для урегулирования суммовой разницы необходимо передать документы в ПСИП.В случаях возникновения дополнительных вопросов необходимо обратиться к методологам аппарата ТБ.', 'situation': 'получен отказ от ПЦП ОЦ по причине: «Суммовая разница»'}, page_content='получен отказ от ПЦП ОЦ по причине: «Суммовая разница»'),\n",
       " Document(id='1', metadata={'action': 'необходимо выставить задачу в ПЦП ЦУЗ с комментарием: «Присуждение#Отказ_УСПЗ#_Договор на срочных счетах». Судебных акт необходимо передавать в ПСИП.В случаях возникновения дополнительных вопросов необходимо обратиться к методологам аппарата ТБ.', 'situation': 'получен отказ в присуждении от ПЦП ОЦ по причине «кредитный договор (КД) на срочных счетах.».'}, page_content='получен отказ в присуждении от ПЦП ОЦ по причине «кредитный договор (КД) на срочных счетах.».'),\n",
       " Document(id='15', metadata={'action': 'проверить в АС ВРМ заполнение данных материальных требований, даты РЦИ, реквизиты судебного акта. \\nВ случае невозможности определить и устранить причину, полученного отказа, необходимо обратиться к методологам аппарата ТБ.', 'situation': 'получен отказ от ПЦП ОЦ по причине: «Некорректные данные в экранной форме (ЭФ)».'}, page_content='получен отказ от ПЦП ОЦ по причине: «Некорректные данные в экранной форме (ЭФ)».')]"
      ]
     },
     "execution_count": 33,
     "metadata": {},
     "output_type": "execute_result"
    }
   ],
   "source": [
    "vector_store_procedures.similarity_search(\"отказ\", k=3)"
   ]
  },
  {
   "cell_type": "code",
   "execution_count": null,
   "metadata": {},
   "outputs": [],
   "source": []
  },
  {
   "cell_type": "code",
   "execution_count": null,
   "metadata": {},
   "outputs": [],
   "source": []
  },
  {
   "cell_type": "code",
   "execution_count": null,
   "metadata": {},
   "outputs": [],
   "source": []
  }
 ],
 "metadata": {
  "kernelspec": {
   "display_name": "llm_agents",
   "language": "python",
   "name": "llm_agents"
  },
  "language_info": {
   "codemirror_mode": {
    "name": "ipython",
    "version": 3
   },
   "file_extension": ".py",
   "mimetype": "text/x-python",
   "name": "python",
   "nbconvert_exporter": "python",
   "pygments_lexer": "ipython3",
   "version": "3.12.3"
  }
 },
 "nbformat": 4,
 "nbformat_minor": 2
}
