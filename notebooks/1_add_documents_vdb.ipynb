{
 "cells": [
  {
   "cell_type": "code",
   "execution_count": 1,
   "metadata": {},
   "outputs": [],
   "source": [
    "import docx\n",
    "import re\n",
    "from langchain_core.documents import Document"
   ]
  },
  {
   "cell_type": "markdown",
   "metadata": {},
   "source": [
    "### Обработка файла 1\n",
    "---"
   ]
  },
  {
   "cell_type": "code",
   "execution_count": 2,
   "metadata": {},
   "outputs": [],
   "source": [
    "def extract_situations_from_docx(file_path):\n",
    "    document = docx.Document(file_path)\n",
    "    situations = {}\n",
    "\n",
    "    current_number = 0\n",
    "    cur_text = \"\"\n",
    "    situations[current_number] = {}\n",
    "\n",
    "    for para in document.paragraphs:\n",
    "        numbering = para._p.pPr.numPr if para._p.pPr is not None else None\n",
    "        para_text = para.text.strip()\n",
    "\n",
    "        if numbering is not None:\n",
    "            \n",
    "            situations[current_number][\"assessment\"] = cur_text\n",
    "            current_number += 1\n",
    "            situations[current_number] = {}\n",
    "            cur_text = \"\"\n",
    "\n",
    "            if para_text.startswith(\"Ситуация:\"):\n",
    "                cur_text += para_text.strip()\n",
    "        else:\n",
    "            if para_text.startswith(\"Оценка критичности, рекомендации:\"):\n",
    "                situations[current_number][\"situation\"] = cur_text\n",
    "                cur_text = \"\"\n",
    "                cur_text += para_text.strip()\n",
    "            else:\n",
    "                cur_text += para_text\n",
    "    situations[current_number][\"assessment\"] = cur_text\n",
    "    situations.pop(0, None)\n",
    "\n",
    "    return situations"
   ]
  },
  {
   "cell_type": "code",
   "execution_count": 3,
   "metadata": {},
   "outputs": [],
   "source": [
    "file_path = '../data/1_file.docx'\n",
    "analysis_situations = extract_situations_from_docx(file_path)"
   ]
  },
  {
   "cell_type": "code",
   "execution_count": 4,
   "metadata": {},
   "outputs": [],
   "source": [
    "analysis_docs = []\n",
    "for key in analysis_situations:\n",
    "    analysis_docs.append(\n",
    "        Document(\n",
    "            page_content=f'{analysis_situations[key][\"situation\"]}\\n{analysis_situations[key][\"assessment\"]}', \n",
    "            metadata={\n",
    "                \"file_name\": \"file_1\", \n",
    "            },\n",
    "            id=key\n",
    "        )\n",
    "    )"
   ]
  },
  {
   "cell_type": "code",
   "execution_count": 43,
   "metadata": {},
   "outputs": [],
   "source": [
    "# analysis_docs"
   ]
  },
  {
   "cell_type": "markdown",
   "metadata": {},
   "source": [
    "### Обработка файла 2\n",
    "---"
   ]
  },
  {
   "cell_type": "code",
   "execution_count": 5,
   "metadata": {},
   "outputs": [],
   "source": [
    "def extract_situations_from_docx_2(file_path):\n",
    "    document = docx.Document(file_path)\n",
    "    situations = {}\n",
    "\n",
    "    current_number = 0\n",
    "    cur_text = \"\"\n",
    "    situations[current_number] = {}\n",
    "\n",
    "    for para in document.paragraphs:\n",
    "        numbering = para._p.pPr.numPr if para._p.pPr is not None else None\n",
    "        para_text = para.text.strip()\n",
    "\n",
    "        if numbering is not None:\n",
    "            \n",
    "            situations[current_number][\"action\"] = cur_text\n",
    "            current_number += 1\n",
    "            situations[current_number] = {}\n",
    "            cur_text = \"\"\n",
    "\n",
    "            if para_text.startswith(\"Ситуация:\"):\n",
    "                cur_text += para_text.strip()\n",
    "        else:\n",
    "            if para_text.startswith(\"Необходимые мероприятия юридического подразделения:\"):\n",
    "                situations[current_number][\"situation\"] = cur_text\n",
    "                cur_text = \"\"\n",
    "                cur_text += para_text.strip()\n",
    "            else:\n",
    "                cur_text += para_text\n",
    "    situations[current_number][\"action\"] = cur_text\n",
    "    situations.pop(0, None)\n",
    "\n",
    "    return situations"
   ]
  },
  {
   "cell_type": "code",
   "execution_count": 6,
   "metadata": {},
   "outputs": [],
   "source": [
    "file_path = '../data/2_file.docx'\n",
    "procedures_situations = extract_situations_from_docx_2(file_path)"
   ]
  },
  {
   "cell_type": "code",
   "execution_count": 28,
   "metadata": {},
   "outputs": [],
   "source": [
    "# procedures_situations"
   ]
  },
  {
   "cell_type": "code",
   "execution_count": 7,
   "metadata": {},
   "outputs": [],
   "source": [
    "procedures_docs = []\n",
    "for key in procedures_situations:\n",
    "    procedures_docs.append(\n",
    "        Document(\n",
    "            page_content=f'{procedures_situations[key][\"situation\"]}\\n{procedures_situations[key][\"action\"]}', \n",
    "            metadata={\n",
    "                \"file_name\": \"file_2\", \n",
    "            },\n",
    "            id=33+key\n",
    "        )\n",
    "    )"
   ]
  },
  {
   "cell_type": "code",
   "execution_count": 48,
   "metadata": {},
   "outputs": [],
   "source": [
    "# procedures_docs"
   ]
  },
  {
   "cell_type": "markdown",
   "metadata": {},
   "source": [
    "### Credentials"
   ]
  },
  {
   "cell_type": "code",
   "execution_count": 9,
   "metadata": {},
   "outputs": [],
   "source": [
    "import os\n",
    "import httpx\n",
    "from dotenv import load_dotenv\n",
    "\n",
    "load_dotenv()\n",
    "\n",
    "proxy_url = os.environ.get(\"OPENAI_PROXY_URL\")"
   ]
  },
  {
   "cell_type": "markdown",
   "metadata": {},
   "source": [
    "### Initialization"
   ]
  },
  {
   "cell_type": "code",
   "execution_count": 10,
   "metadata": {},
   "outputs": [],
   "source": [
    "from langchain_gigachat.embeddings.gigachat import GigaChatEmbeddings\n",
    "\n",
    "embedding_function = GigaChatEmbeddings(credentials=os.getenv(\"GIGACHAT_CREDENTIALS\"), verify_ssl_certs=False, model=\"Embeddings\")"
   ]
  },
  {
   "cell_type": "code",
   "execution_count": null,
   "metadata": {},
   "outputs": [],
   "source": [
    "# from langchain_openai import OpenAIEmbeddings\n",
    "\n",
    "# embedding_function = OpenAIEmbeddings(model=\"text-embedding-3-large\", http_client=httpx.Client(proxy=proxy_url))"
   ]
  },
  {
   "cell_type": "markdown",
   "metadata": {},
   "source": [
    "### Init chroma db\n",
    "---"
   ]
  },
  {
   "cell_type": "code",
   "execution_count": 11,
   "metadata": {},
   "outputs": [],
   "source": [
    "import chromadb\n",
    "from langchain_chroma import Chroma\n",
    "\n",
    "persistent_client  = chromadb.PersistentClient(path=\"chromadb_db/\")"
   ]
  },
  {
   "cell_type": "code",
   "execution_count": 12,
   "metadata": {},
   "outputs": [],
   "source": [
    "vector_store = Chroma(client=persistent_client, embedding_function=embedding_function)"
   ]
  },
  {
   "cell_type": "code",
   "execution_count": 14,
   "metadata": {},
   "outputs": [],
   "source": [
    "# %%time\n",
    "\n",
    "# vector_store.add_documents(documents=analysis_docs + procedures_docs)"
   ]
  },
  {
   "cell_type": "code",
   "execution_count": 54,
   "metadata": {},
   "outputs": [
    {
     "data": {
      "text/plain": [
       "[Document(id='21', metadata={'file_name': 'file_1'}, page_content='Ситуация: Несовпадение сумм задолженности как в разбивке, так и в общем итоге в резолютивной части судебного акта с РЦИ (расчет, расчет цены иска).\\nОценка критичности, рекомендации: Некритично, если расхождения сумм задолженности в диапазоне 250 рублей (включительно). В остальных случаях критично.'),\n",
       " Document(id='2', metadata={'file_name': 'file_1'}, page_content='Ситуация: Судебный акт вынесен по разным продуктам (кредитная карта + кредит, КД, КК), как следствие, в резолютивной части судебного акта сумма госпошлины (г/п, гп) указана общей суммой без разбивки по продуктам. Оплата госпошлины (г/п, гп) рассчитывается исходя из общей суммы задолженности по продуктам.\\nОценка критичности, рекомендации: Некритично. Необходимо произвести расчет госпошлины для каждого обязательства и указать сумму в карточке дела и в запросе в АС ВРМ «Правовое обеспечение».'),\n",
       " Document(id='20', metadata={'file_name': 'file_1'}, page_content='Ситуация: Не соответствует итоговая сумма задолженности с разбивкой - в итог включена сумма госпошлины, но не прописана в разбивке.\\nОценка критичности, рекомендации: Некритично, если в итоговой сумме задолженности размер присужденной государственной пошлины соответствует размеру уплаченной, либо расхождения в диапазоне до 250 рублей (включительно). ПРИ ЭТОМ Не считать критичной опиской расхождение сумм (разбивка/общий итог) в большую сторону вне зависимости от суммы расхождения.')]"
      ]
     },
     "execution_count": 54,
     "metadata": {},
     "output_type": "execute_result"
    }
   ],
   "source": [
    "vector_store.similarity_search(\"Долг\", k=3)"
   ]
  },
  {
   "cell_type": "code",
   "execution_count": 15,
   "metadata": {},
   "outputs": [
    {
     "data": {
      "text/plain": [
       "[Document(id='34', metadata={'file_name': 'file_2'}, page_content='Ситуация: получен отказ в присуждении от ПЦП ОЦ по причине «кредитный договор (КД) на срочных счетах.».\\nНеобходимые мероприятия юридического подразделения: необходимо выставить задачу в ПЦП ЦУЗ с комментарием: «Присуждение#Отказ_УСПЗ#_Договор на срочных счетах». Судебных акт необходимо передавать в ПСИП.В случаях возникновения дополнительных вопросов необходимо обратиться к методологам аппарата ТБ.'),\n",
       " Document(id='1', metadata={'file_name': 'file_1'}, page_content='Ситуация: Судебный акт вынесен по нескольким договорам, сумма госпошлины (г/п, гп) указана общей суммой без разбивки.\\nОценка критичности, рекомендации: Некритично. Необходимо произвести расчет госпошлины для каждого обязательства и указать сумму в карточке дела и в запросе в АС ВРМ «Правовое обеспечение».'),\n",
       " Document(id='7', metadata={'file_name': 'file_1'}, page_content='Ситуация: Ошибки в исполнительном документе (в отношении ФЛ (физического листа) – ФИО (фамилия имя отчество), дата и место рождения, место жительства или место пребывания, один из идентификаторов (то, что указывается в ИД (исполнительном документе) согласно ГПК и АПК РФ) заемщика, поручителей, залогодателей, в отношении ЮЛ - наименование, адрес, идентификационный номер налогоплательщика и основной государственный регистрационный номер (то, что указывается в ИД согласно ГПК и АПК РФ), номер карты, договора, суммы задолженности, госпошлина), при наличии судебного акта с верной информацией (и наоборот).\\nОценка критичности, рекомендации: Некритично, если в судебном акте описки при указании населенного пункта заемщика, поручителей. ИЛИ Некритично, если неверное склонение ФИО (фамилия имя отчество) заемщика, поручителей, залогодателей.')]"
      ]
     },
     "execution_count": 15,
     "metadata": {},
     "output_type": "execute_result"
    }
   ],
   "source": [
    "vector_store.similarity_search(\"Долг\", k=3)"
   ]
  },
  {
   "cell_type": "code",
   "execution_count": null,
   "metadata": {},
   "outputs": [],
   "source": []
  },
  {
   "cell_type": "code",
   "execution_count": 16,
   "metadata": {},
   "outputs": [],
   "source": [
    "from langchain_gigachat.chat_models import GigaChat\n",
    "\n",
    "giga_llm = GigaChat(\n",
    "            credentials=os.getenv(\"GIGACHAT_CREDENTIALS\"),\n",
    "            model=\"GigaChat-2-Max\",\n",
    "            verify_ssl_certs=False\n",
    "        )"
   ]
  },
  {
   "cell_type": "code",
   "execution_count": 17,
   "metadata": {},
   "outputs": [
    {
     "data": {
      "text/plain": [
       "AIMessage(content='Здравствуйте! Как ваши дела?', additional_kwargs={}, response_metadata={'token_usage': {'prompt_tokens': 14, 'completion_tokens': 7, 'total_tokens': 21}, 'model_name': 'GigaChat-2-Max:2.0.27.4', 'x_headers': {'x-request-id': '961e621e-117f-41ea-9440-4a9c928d9137', 'x-session-id': '33a35851-3503-4abf-8691-0e5e62533dac', 'x-client-id': None}, 'finish_reason': 'stop'}, id='961e621e-117f-41ea-9440-4a9c928d9137')"
      ]
     },
     "execution_count": 17,
     "metadata": {},
     "output_type": "execute_result"
    }
   ],
   "source": [
    "giga_llm.invoke(\"Привет\")"
   ]
  },
  {
   "cell_type": "code",
   "execution_count": null,
   "metadata": {},
   "outputs": [],
   "source": []
  },
  {
   "cell_type": "code",
   "execution_count": null,
   "metadata": {},
   "outputs": [],
   "source": []
  }
 ],
 "metadata": {
  "kernelspec": {
   "display_name": "llm_agents",
   "language": "python",
   "name": "llm_agents"
  },
  "language_info": {
   "codemirror_mode": {
    "name": "ipython",
    "version": 3
   },
   "file_extension": ".py",
   "mimetype": "text/x-python",
   "name": "python",
   "nbconvert_exporter": "python",
   "pygments_lexer": "ipython3",
   "version": "3.12.3"
  }
 },
 "nbformat": 4,
 "nbformat_minor": 2
}
