{
 "cells": [
  {
   "cell_type": "markdown",
   "id": "e0e62656",
   "metadata": {},
   "source": [
    "### Credentials"
   ]
  },
  {
   "cell_type": "code",
   "execution_count": null,
   "id": "4b6436b9",
   "metadata": {},
   "outputs": [],
   "source": [
    "import os\n",
    "import httpx\n",
    "from dotenv import load_dotenv\n",
    "\n",
    "load_dotenv()\n",
    "\n",
    "proxy_url = os.environ.get(\"OPENAI_PROXY_URL\")"
   ]
  },
  {
   "cell_type": "markdown",
   "id": "2ec98a34",
   "metadata": {},
   "source": [
    "### Init chroma db\n",
    "---"
   ]
  },
  {
   "cell_type": "code",
   "execution_count": 48,
   "id": "65210c8a",
   "metadata": {},
   "outputs": [],
   "source": [
    "import chromadb\n",
    "from langchain_chroma import Chroma\n",
    "\n",
    "persistent_client  = chromadb.PersistentClient(path=\"chromadb_db/\")\n",
    "\n",
    "from langchain_openai import OpenAIEmbeddings\n",
    "\n",
    "embedding_function = OpenAIEmbeddings(model=\"text-embedding-3-large\", http_client=httpx.Client(proxy=proxy_url))"
   ]
  },
  {
   "cell_type": "code",
   "execution_count": 49,
   "id": "9c0d6bd9",
   "metadata": {},
   "outputs": [],
   "source": [
    "vector_store_analysis = Chroma(client=persistent_client, collection_name=\"judicial_acts_analysis\", embedding_function=embedding_function)\n",
    "vector_store_procedures = Chroma(client=persistent_client, collection_name=\"rejection_procedures\", embedding_function=embedding_function)"
   ]
  },
  {
   "cell_type": "code",
   "execution_count": 41,
   "id": "fe472880",
   "metadata": {},
   "outputs": [],
   "source": [
    "from typing import Literal\n",
    "from typing_extensions import TypedDict\n",
    "\n",
    "from langchain_openai import ChatOpenAI\n",
    "from langgraph.graph import MessagesState, END, StateGraph, START\n",
    "from langgraph.types import Command\n",
    "from langchain_core.prompts import ChatPromptTemplate\n",
    "from langchain_core.messages import HumanMessage\n",
    "from IPython.display import Image, display\n"
   ]
  },
  {
   "cell_type": "markdown",
   "id": "ecc27d1e",
   "metadata": {},
   "source": [
    "#### Router prompt\n",
    "---"
   ]
  },
  {
   "cell_type": "code",
   "execution_count": 23,
   "id": "08bfc6aa",
   "metadata": {},
   "outputs": [
    {
     "name": "stdout",
     "output_type": "stream",
     "text": [
      "================================\u001b[1m System Message \u001b[0m================================\n",
      "\n",
      "Ты являешься интеллектуальным роутером на базе языковой модели (LLM). \n",
      "Твоя задача — направить поступающий вопрос пользователя по одному из трех возможных маршрутов, исходя из контекста запроса. \n",
      "Тебе доступны следующие пути маршрутизации:\n",
      "\n",
      "1. **Анализ судебных актов и выявление ошибок или несоответствий в их оформлении и содержании**:\n",
      "   - Некорректное указание сумм госпошлины;\n",
      "   - Отсутствие подписей или печатей;\n",
      "   - Ошибки в данных заемщиков;\n",
      "   - Несоответствия в расчетах задолженности;\n",
      "   - Другие аналогичные ситуации, связанные с оформлением и содержанием судебных документов.\n",
      "\n",
      "2. **Процедуры реагирования на отказы в присуждении со стороны ПЦП ОЦ**:\n",
      "   - Типовые причины отказов, например, «Суммовая разница», «Списан с баланса Банка»;\n",
      "   - Алгоритмы действий юридического подразделения;\n",
      "   - Взаимодействие с другими подразделениями и методологами аппарата ТБ;\n",
      "   - Контактные данные ответственных лиц.\n",
      "\n",
      "3. **Other**:\n",
      "   - Любые вопросы, не связанные с темами 1 и 2 (например, общие вопросы к ассистенту, не относящиеся к указанным выше тематикам).\n",
      "\n",
      "Твой ответ должен быть строго в формате:\n",
      "\n",
      "- Если вопрос относится к теме 1, отвечай: \"acts_analysis\"\n",
      "- Если вопрос относится к теме 2, отвечай: \"rejection_procedures\"\n",
      "- Если вопрос не относится к темам 1 и 2, отвечай: \"other\"\n",
      "\n",
      "Важно: не добавляй дополнительной информации или объяснений в ответ. Твой ответ должен содержать только указание маршрута.\n",
      "\n",
      "\n",
      "=============================\u001b[1m Messages Placeholder \u001b[0m=============================\n",
      "\n",
      "\u001b[33;1m\u001b[1;3m{messages}\u001b[0m\n"
     ]
    }
   ],
   "source": [
    "router_instructions = \"\"\"Ты являешься интеллектуальным роутером на базе языковой модели (LLM). \n",
    "Твоя задача — направить поступающий вопрос пользователя по одному из трех возможных маршрутов, исходя из контекста запроса. \n",
    "Тебе доступны следующие пути маршрутизации:\n",
    "\n",
    "1. **Анализ судебных актов и выявление ошибок или несоответствий в их оформлении и содержании**:\n",
    "   - Некорректное указание сумм госпошлины;\n",
    "   - Отсутствие подписей или печатей;\n",
    "   - Ошибки в данных заемщиков;\n",
    "   - Несоответствия в расчетах задолженности;\n",
    "   - Другие аналогичные ситуации, связанные с оформлением и содержанием судебных документов.\n",
    "\n",
    "2. **Процедуры реагирования на отказы в присуждении со стороны ПЦП ОЦ**:\n",
    "   - Типовые причины отказов, например, «Суммовая разница», «Списан с баланса Банка»;\n",
    "   - Алгоритмы действий юридического подразделения;\n",
    "   - Взаимодействие с другими подразделениями и методологами аппарата ТБ;\n",
    "   - Контактные данные ответственных лиц.\n",
    "\n",
    "3. **Other**:\n",
    "   - Любые вопросы, не связанные с темами 1 и 2 (например, общие вопросы к ассистенту, не относящиеся к указанным выше тематикам).\n",
    "\n",
    "Твой ответ должен быть строго в формате:\n",
    "\n",
    "- Если вопрос относится к теме 1, отвечай: \"acts_analysis\"\n",
    "- Если вопрос относится к теме 2, отвечай: \"rejection_procedures\"\n",
    "- Если вопрос не относится к темам 1 и 2, отвечай: \"other\"\n",
    "\n",
    "Важно: не добавляй дополнительной информации или объяснений в ответ. Твой ответ должен содержать только указание маршрута.\n",
    "\"\"\"\n",
    "router_prompt = ChatPromptTemplate.from_messages([(\"system\", router_instructions), (\"placeholder\", \"{messages}\")])\n",
    "router_prompt.pretty_print()"
   ]
  },
  {
   "cell_type": "code",
   "execution_count": 32,
   "id": "068d32c2",
   "metadata": {},
   "outputs": [],
   "source": [
    "options = [\"acts_analysis\", \"rejection_procedures\", \"other\"]\n",
    "\n",
    "class Router(TypedDict):\n",
    "    \"\"\"Worker to route to next. If no workers needed, route to other.\"\"\"\n",
    "    next: Literal[*options]\n",
    "\n",
    "\n",
    "class RouterState(MessagesState):\n",
    "    next: Literal[*options]"
   ]
  },
  {
   "cell_type": "code",
   "execution_count": null,
   "id": "ccc8a7f4",
   "metadata": {},
   "outputs": [],
   "source": [
    "raw_model = ChatOpenAI(model=\"gpt-4o-mini\", temperature=0, http_client=httpx.Client(proxy=proxy_url))\n",
    "router_model = router_prompt | raw_model.with_structured_output(Router)"
   ]
  },
  {
   "cell_type": "code",
   "execution_count": 29,
   "id": "c7536f74",
   "metadata": {},
   "outputs": [
    {
     "data": {
      "text/plain": [
       "{'next': 'rejection_procedures'}"
      ]
     },
     "execution_count": 29,
     "metadata": {},
     "output_type": "execute_result"
    }
   ],
   "source": [
    "question = \"Какой порядок действий при отказе в присуждении?\"\n",
    "router_model.invoke({\"messages\": [HumanMessage(question)]})"
   ]
  },
  {
   "cell_type": "markdown",
   "id": "e8715e9a",
   "metadata": {},
   "source": [
    "### Define rag pipelines\n",
    "---"
   ]
  },
  {
   "cell_type": "markdown",
   "id": "20721469",
   "metadata": {},
   "source": [
    "Prompt"
   ]
  },
  {
   "cell_type": "code",
   "execution_count": 86,
   "id": "41fdedd6",
   "metadata": {},
   "outputs": [
    {
     "name": "stdout",
     "output_type": "stream",
     "text": [
      "================================\u001b[1m Human Message \u001b[0m=================================\n",
      "\n",
      "Ты являешься ассистентом для вопрос-ответных заданий.\n",
      "\n",
      "Вот контекст, который следует использовать для ответа на вопрос:\n",
      "\n",
      "\u001b[33;1m\u001b[1;3m{context}\u001b[0m\n",
      "\n",
      "Внимательно обдумай приведенный выше контекст. \n",
      "\n",
      "Теперь просмотри вопрос пользователя:\n",
      "\n",
      "\u001b[33;1m\u001b[1;3m{question}\u001b[0m\n",
      "\n",
      "Дай ответ на этот вопрос, используя только приведенный выше контекст. \n",
      "\n",
      "Используйте максимум три предложения и отвечайте кратко. Если ты не знаешь ответа, просто скажи \"Я не знаю\".\n",
      "\n",
      "Ответ:\n"
     ]
    }
   ],
   "source": [
    "rag_instructions = \"\"\"Ты являешься ассистентом для вопрос-ответных заданий.\n",
    "\n",
    "Вот контекст, который следует использовать для ответа на вопрос:\n",
    "\n",
    "{context}\n",
    "\n",
    "Внимательно обдумай приведенный выше контекст. \n",
    "\n",
    "Теперь просмотри вопрос пользователя:\n",
    "\n",
    "{question}\n",
    "\n",
    "Дай ответ на этот вопрос, используя только приведенный выше контекст. \n",
    "\n",
    "Используйте максимум три предложения и отвечайте кратко. Если ты не знаешь ответа, просто скажи \"Я не знаю\".\n",
    "\n",
    "Ответ:\"\"\"\n",
    "\n",
    "rag_prompt = ChatPromptTemplate.from_messages([(\"human\", rag_instructions)])\n",
    "rag_prompt.pretty_print()"
   ]
  },
  {
   "cell_type": "code",
   "execution_count": 45,
   "id": "753f80d2",
   "metadata": {},
   "outputs": [],
   "source": [
    "llm = ChatOpenAI(model=\"gpt-4o-mini\", temperature=0, http_client=httpx.Client(proxy=proxy_url))\n",
    "rag_model = rag_prompt | llm"
   ]
  },
  {
   "cell_type": "code",
   "execution_count": 76,
   "id": "f481adfc",
   "metadata": {},
   "outputs": [],
   "source": [
    "def rag_acts_analysis_node(state: RouterState) -> str:\n",
    "    \"\"\"Acts analysis node.\"\"\"\n",
    "    user_question = state[\"messages\"][-1].content\n",
    "    relevant_docs = vector_store_analysis.similarity_search(user_question, k=3)\n",
    "    context_list = [f'Ситуация: {relevant_docs[i].metadata[\"situation\"]}\\nОценка критичности, рекомендации: {relevant_docs[i].metadata[\"assessment\"]}' for i in range(len(relevant_docs))]\n",
    "    context_list = list(set(context_list))  # Remove duplicates\n",
    "    context = \"\\n\\n\".join(context_list)\n",
    "    \n",
    "    response = rag_model.invoke({\"context\": context, \"question\": user_question})\n",
    "    return {\"messages\": [response]}"
   ]
  },
  {
   "cell_type": "code",
   "execution_count": 79,
   "id": "766d6094",
   "metadata": {},
   "outputs": [],
   "source": [
    "def rag_rejection_procedures_node(state: RouterState) -> str:\n",
    "    \"\"\"Rejection procedures node.\"\"\"\n",
    "    user_question = state[\"messages\"][-1].content\n",
    "    relevant_docs = vector_store_procedures.similarity_search(user_question, k=3)\n",
    "    context_list = [f'Ситуация: {relevant_docs[i].metadata[\"situation\"]}\\nНеобходимые мероприятия юридического подразделения:  {relevant_docs[i].metadata[\"action\"]}' for i in range(len(relevant_docs))]\n",
    "    context_list = list(set(context_list))  # Remove duplicates\n",
    "    context = \"\\n\\n\".join(context_list)\n",
    "    \n",
    "    response = rag_model.invoke({\"context\": context, \"question\": user_question})\n",
    "    return {\"messages\": [response]}"
   ]
  },
  {
   "cell_type": "code",
   "execution_count": 77,
   "id": "854ee953",
   "metadata": {},
   "outputs": [
    {
     "data": {
      "text/plain": [
       "{'messages': [AIMessage(content='При отказе в присуждении необходимо определить, критична ли ситуация в соответствии с указанными критериями. Если критично, следует обратиться к юридическому представителю для определения способа устранения недостатков с учетом процессуального законодательства. В случае неуспешного обжалования или нецелесообразности обжалования суммы присуждаются на основании судебного акта.', additional_kwargs={'refusal': None}, response_metadata={'token_usage': {'completion_tokens': 80, 'prompt_tokens': 468, 'total_tokens': 548, 'completion_tokens_details': {'accepted_prediction_tokens': 0, 'audio_tokens': 0, 'reasoning_tokens': 0, 'rejected_prediction_tokens': 0}, 'prompt_tokens_details': {'audio_tokens': 0, 'cached_tokens': 0}}, 'model_name': 'gpt-4o-mini-2024-07-18', 'system_fingerprint': 'fp_b376dfbbd5', 'id': 'chatcmpl-BK4JfJ9ksxFqErtywplavkcu9Y7Is', 'finish_reason': 'stop', 'logprobs': None}, id='run-762de499-e8f5-4b2b-b554-69bba238d3ee-0', usage_metadata={'input_tokens': 468, 'output_tokens': 80, 'total_tokens': 548, 'input_token_details': {'audio': 0, 'cache_read': 0}, 'output_token_details': {'audio': 0, 'reasoning': 0}})]}"
      ]
     },
     "execution_count": 77,
     "metadata": {},
     "output_type": "execute_result"
    }
   ],
   "source": [
    "rag_acts_analysis_node({\"messages\": [HumanMessage(\"Какой порядок действий при отказе в присуждении?\")]})"
   ]
  },
  {
   "cell_type": "code",
   "execution_count": 80,
   "id": "c7b70b65",
   "metadata": {},
   "outputs": [
    {
     "data": {
      "text/plain": [
       "{'messages': [AIMessage(content='При отказе в присуждении необходимо выставить задачу в ПЦП ЦУЗ с соответствующим комментарием, в зависимости от причины отказа. Если причина отказа связана с некорректными данными, нужно проверить заполнение данных в АС ВРМ. В случае возникновения дополнительных вопросов следует обратиться к методологам аппарата ТБ.', additional_kwargs={'refusal': None}, response_metadata={'token_usage': {'completion_tokens': 78, 'prompt_tokens': 510, 'total_tokens': 588, 'completion_tokens_details': {'accepted_prediction_tokens': 0, 'audio_tokens': 0, 'reasoning_tokens': 0, 'rejected_prediction_tokens': 0}, 'prompt_tokens_details': {'audio_tokens': 0, 'cached_tokens': 0}}, 'model_name': 'gpt-4o-mini-2024-07-18', 'system_fingerprint': 'fp_b376dfbbd5', 'id': 'chatcmpl-BK4Mz7oiCc437ttj2wrVMmxeW7tRP', 'finish_reason': 'stop', 'logprobs': None}, id='run-a1c24ea4-bf01-4077-8feb-a352d2ba0155-0', usage_metadata={'input_tokens': 510, 'output_tokens': 78, 'total_tokens': 588, 'input_token_details': {'audio': 0, 'cache_read': 0}, 'output_token_details': {'audio': 0, 'reasoning': 0}})]}"
      ]
     },
     "execution_count": 80,
     "metadata": {},
     "output_type": "execute_result"
    }
   ],
   "source": [
    "rag_rejection_procedures_node({\"messages\": [HumanMessage(\"Какой порядок действий при отказе в присуждении?\")]})"
   ]
  },
  {
   "cell_type": "markdown",
   "id": "b4883b8a",
   "metadata": {},
   "source": [
    "### Define `other` node\n",
    "---"
   ]
  },
  {
   "cell_type": "code",
   "execution_count": 89,
   "id": "45f4b666",
   "metadata": {},
   "outputs": [
    {
     "name": "stdout",
     "output_type": "stream",
     "text": [
      "================================\u001b[1m System Message \u001b[0m================================\n",
      "\n",
      "Ты — дружелюбный ассистент, с которым можно просто поговорить. \n",
      "Поддерживай непринужденный и доброжелательный диалог. Отвечай на вопросы вроде: кто ты, как дела, что ты умеешь и т.д.\n",
      "\n",
      "Если пользователь задаёт вопрос, связанный с юридической тематикой (например, упоминает судебные акты, \n",
      "госпошлину, отказ ПЦП ОЦ, должников, правовые расчёты и т.п.), — вежливо откажись отвечать на него, сообщив, что не можешь помочь \n",
      "с юридическими вопросами, но с радостью продолжишь разговор на другие темы.\n",
      "\n",
      "Говори естественно, тепло и по-дружески.\n",
      "\n",
      "================================\u001b[1m Human Message \u001b[0m=================================\n",
      "\n",
      "\u001b[33;1m\u001b[1;3m{user_question}\u001b[0m\n"
     ]
    }
   ],
   "source": [
    "other_instructions = \"\"\"Ты — дружелюбный ассистент, с которым можно просто поговорить. \n",
    "Поддерживай непринужденный и доброжелательный диалог. Отвечай на вопросы вроде: кто ты, как дела, что ты умеешь и т.д.\n",
    "\n",
    "Если пользователь задаёт вопрос, связанный с юридической тематикой (например, упоминает судебные акты, \n",
    "госпошлину, отказ ПЦП ОЦ, должников, правовые расчёты и т.п.), — вежливо откажись отвечать на него, сообщив, что не можешь помочь \n",
    "с юридическими вопросами, но с радостью продолжишь разговор на другие темы.\n",
    "\n",
    "Говори естественно, тепло и по-дружески.\"\"\"\n",
    "\n",
    "other_prompt = ChatPromptTemplate.from_messages([(\"system\", other_instructions), (\"human\", \"{user_question}\")])\n",
    "other_prompt.pretty_print()"
   ]
  },
  {
   "cell_type": "code",
   "execution_count": 90,
   "id": "82cb647e",
   "metadata": {},
   "outputs": [],
   "source": [
    "llm = ChatOpenAI(model=\"gpt-4o-mini\", http_client=httpx.Client(proxy=proxy_url))\n",
    "other_model = other_prompt | llm"
   ]
  },
  {
   "cell_type": "code",
   "execution_count": 94,
   "id": "1f87d376",
   "metadata": {},
   "outputs": [],
   "source": [
    "def other_node(state: RouterState):\n",
    "    \"\"\"Other node.\"\"\"\n",
    "    user_question = state[\"messages\"][-1].content\n",
    "    response = other_model.invoke({\"user_question\": user_question})\n",
    "    return {\"messages\": [response]}"
   ]
  },
  {
   "cell_type": "markdown",
   "id": "7e941a67",
   "metadata": {},
   "source": [
    "### Define graph\n",
    "---"
   ]
  },
  {
   "cell_type": "code",
   "execution_count": 97,
   "id": "4c92c6f4",
   "metadata": {},
   "outputs": [
    {
     "data": {
      "image/png": "[encoded data removed]",
      "text/plain": [
       "<IPython.core.display.Image object>"
      ]
     },
     "metadata": {},
     "output_type": "display_data"
    }
   ],
   "source": [
    "def router_node(state: RouterState):\n",
    "    \"\"\"Router node to route to next worker.\"\"\"\n",
    "    messages = state[\"messages\"]\n",
    "    route = router_model.invoke({\"messages\": messages})\n",
    "    return {\"next\": route[\"next\"]}\n",
    "\n",
    "\n",
    "def route_after_prediction(\n",
    "    state: RouterState,\n",
    ") -> Literal[\"rag_acts_analysis_node\", \"rag_rejection_procedures_node\", \"other_node\"]:\n",
    "    if state[\"next\"] == \"acts_analysis\":\n",
    "        return \"rag_acts_analysis_node\"\n",
    "    elif state[\"next\"] == \"rejection_procedures\":\n",
    "        return \"rag_rejection_procedures_node\"\n",
    "    else:\n",
    "        return \"other_node\"\n",
    "\n",
    "\n",
    "graph = StateGraph(RouterState)\n",
    "\n",
    "# DEFINE NODES:\n",
    "graph.add_node(\"router_node\", router_node)\n",
    "graph.add_node(\"rag_acts_analysis_node\", rag_acts_analysis_node)\n",
    "graph.add_node(\"rag_rejection_procedures_node\", rag_rejection_procedures_node)\n",
    "graph.add_node(\"other_node\", other_node)\n",
    "\n",
    "# DEFINE EDGES\n",
    "graph.add_edge(START, \"router_node\")\n",
    "graph.add_conditional_edges(\"router_node\", route_after_prediction)\n",
    "graph.add_edge(\"rag_acts_analysis_node\", END)\n",
    "graph.add_edge(\"rag_rejection_procedures_node\", END)\n",
    "graph.add_edge(\"other_node\", END)\n",
    "\n",
    "app = graph.compile()\n",
    "display(Image(app.get_graph().draw_mermaid_png()))"
   ]
  },
  {
   "cell_type": "markdown",
   "id": "6da138e8",
   "metadata": {},
   "source": [
    "### Testing graph\n",
    "---"
   ]
  },
  {
   "cell_type": "code",
   "execution_count": 98,
   "id": "03b20342",
   "metadata": {},
   "outputs": [
    {
     "name": "stdout",
     "output_type": "stream",
     "text": [
      "================================\u001b[1m Human Message \u001b[0m=================================\n",
      "\n",
      "Является ли критичным наличие в решении суда исправленных вручную описок?\n",
      "================================\u001b[1m Human Message \u001b[0m=================================\n",
      "\n",
      "Является ли критичным наличие в решении суда исправленных вручную описок?\n",
      "==================================\u001b[1m Ai Message \u001b[0m==================================\n",
      "\n",
      "Некритично, если исправления внесены вручную и указано \"Исправленному верить\" с подписью судьи или печатью суда. Также некритично, если дата вступления судебного акта в силу и/или номер дела указаны вручную без оговорок суда. В остальных случаях необходимо удостоверение исправлений подписями судей.\n"
     ]
    }
   ],
   "source": [
    "question = \"Является ли критичным наличие в решении суда исправленных вручную описок?\"\n",
    "\n",
    "for chunk in app.stream(\n",
    "    {\"messages\": [HumanMessage(question)]},\n",
    "    stream_mode=\"values\"\n",
    "):\n",
    "    chunk[\"messages\"][-1].pretty_print()"
   ]
  },
  {
   "cell_type": "code",
   "execution_count": 99,
   "id": "ad627827",
   "metadata": {},
   "outputs": [
    {
     "name": "stdout",
     "output_type": "stream",
     "text": [
      "================================\u001b[1m Human Message \u001b[0m=================================\n",
      "\n",
      "Привет?\n",
      "================================\u001b[1m Human Message \u001b[0m=================================\n",
      "\n",
      "Привет?\n",
      "==================================\u001b[1m Ai Message \u001b[0m==================================\n",
      "\n",
      "Привет! Как дела? Чем могу помочь?\n"
     ]
    }
   ],
   "source": [
    "question = \"Привет?\"\n",
    "\n",
    "for chunk in app.stream(\n",
    "    {\"messages\": [HumanMessage(question)]},\n",
    "    stream_mode=\"values\"\n",
    "):\n",
    "    chunk[\"messages\"][-1].pretty_print()"
   ]
  },
  {
   "cell_type": "code",
   "execution_count": null,
   "id": "66d960ca",
   "metadata": {},
   "outputs": [],
   "source": []
  },
  {
   "cell_type": "code",
   "execution_count": null,
   "id": "16cb27fc",
   "metadata": {},
   "outputs": [],
   "source": []
  },
  {
   "cell_type": "code",
   "execution_count": null,
   "id": "e36648d2",
   "metadata": {},
   "outputs": [],
   "source": []
  }
 ],
 "metadata": {
  "kernelspec": {
   "display_name": "llm_agents",
   "language": "python",
   "name": "llm_agents"
  },
  "language_info": {
   "codemirror_mode": {
    "name": "ipython",
    "version": 3
   },
   "file_extension": ".py",
   "mimetype": "text/x-python",
   "name": "python",
   "nbconvert_exporter": "python",
   "pygments_lexer": "ipython3",
   "version": "3.12.3"
  }
 },
 "nbformat": 4,
 "nbformat_minor": 5
}
